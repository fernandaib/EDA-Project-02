{
 "cells": [
  {
   "cell_type": "markdown",
   "id": "2ae6b1de-a372-43a4-922e-928018e728af",
   "metadata": {},
   "source": [
    "## Exploratory Data Analysis - Roller Coaster"
   ]
  },
  {
   "cell_type": "markdown",
   "id": "78641bd6-7098-49b5-bea6-60b797e8409e",
   "metadata": {},
   "source": [
    "This dataset is made up of 1087 records about Roller Coaster around the world, characterized with 56 criteria although then they were filtered in 13 criteria."
   ]
  },
  {
   "cell_type": "markdown",
   "id": "33618718-bd6f-44f7-a579-55673124f43e",
   "metadata": {},
   "source": [
    "### Modules and Libraries"
   ]
  },
  {
   "cell_type": "code",
   "execution_count": 2,
   "id": "3bb0b8be-8bc0-464a-825e-32dfa7f047fb",
   "metadata": {},
   "outputs": [],
   "source": [
    "import os\n",
    "import pandas as pd\n",
    "import numpy as np\n",
    "import matplotlib.pylab as plt\n",
    "import seaborn as sns\n",
    "plt.style.use('ggplot')\n",
    "# pd.set_option('max_columns', 200)"
   ]
  },
  {
   "cell_type": "markdown",
   "id": "f83ee951-8a02-492b-b207-b34d257a6580",
   "metadata": {},
   "source": [
    "### Check the existence of the file which will be used"
   ]
  },
  {
   "cell_type": "code",
   "execution_count": 3,
   "id": "c262c2b2-de4f-4a4d-a046-021684ad78d9",
   "metadata": {},
   "outputs": [
    {
     "name": "stdout",
     "output_type": "stream",
     "text": [
      ".ipynb_checkpoints\n",
      "coaster_db.csv\n",
      "Exploratory Data Analysis.ipynb\n",
      "test.csv\n",
      "test.ipynb\n"
     ]
    }
   ],
   "source": [
    "path = os.getcwd()\n",
    "files = os.listdir(path)\n",
    "for file in files:\n",
    "    print (file)"
   ]
  },
  {
   "cell_type": "markdown",
   "id": "131dc719-41b3-428e-b2ea-bf703cdb7495",
   "metadata": {},
   "source": [
    "### Load _.csv file_ and Set it a variable"
   ]
  },
  {
   "cell_type": "code",
   "execution_count": 4,
   "id": "fd78fac6-42c7-457e-be31-66e23e2a7837",
   "metadata": {},
   "outputs": [],
   "source": [
    "df = pd.read_csv('coaster_db.csv')"
   ]
  },
  {
   "cell_type": "markdown",
   "id": "95e3ec38-117e-4d43-9f33-9b2be2d10488",
   "metadata": {},
   "source": [
    "### Data Understanding"
   ]
  },
  {
   "cell_type": "code",
   "execution_count": 5,
   "id": "bd63b01e-1ea1-46c2-92a9-b3c70e759484",
   "metadata": {},
   "outputs": [
    {
     "data": {
      "text/plain": [
       "(1087, 56)"
      ]
     },
     "execution_count": 5,
     "metadata": {},
     "output_type": "execute_result"
    }
   ],
   "source": [
    "df.shape"
   ]
  },
  {
   "cell_type": "code",
   "execution_count": 6,
   "id": "8e93b881-62a7-42da-9c39-e31d497f0ada",
   "metadata": {},
   "outputs": [
    {
     "data": {
      "text/plain": [
       "Index(['coaster_name', 'Length', 'Speed', 'Location', 'Status', 'Opening date',\n",
       "       'Type', 'Manufacturer', 'Height restriction', 'Model', 'Height',\n",
       "       'Inversions', 'Lift/launch system', 'Cost', 'Trains', 'Park section',\n",
       "       'Duration', 'Capacity', 'G-force', 'Designer', 'Max vertical angle',\n",
       "       'Drop', 'Soft opening date', 'Fast Lane available', 'Replaced',\n",
       "       'Track layout', 'Fastrack available', 'Soft opening date.1',\n",
       "       'Closing date', 'Opened', 'Replaced by', 'Website',\n",
       "       'Flash Pass Available', 'Must transfer from wheelchair', 'Theme',\n",
       "       'Single rider line available', 'Restraint Style',\n",
       "       'Flash Pass available', 'Acceleration', 'Restraints', 'Name',\n",
       "       'year_introduced', 'latitude', 'longitude', 'Type_Main',\n",
       "       'opening_date_clean', 'speed1', 'speed2', 'speed1_value', 'speed1_unit',\n",
       "       'speed_mph', 'height_value', 'height_unit', 'height_ft',\n",
       "       'Inversions_clean', 'Gforce_clean'],\n",
       "      dtype='object')"
      ]
     },
     "execution_count": 6,
     "metadata": {},
     "output_type": "execute_result"
    }
   ],
   "source": [
    "df.columns"
   ]
  },
  {
   "cell_type": "code",
   "execution_count": 7,
   "id": "5672587f-a17d-4128-ae24-dbbb832dcd56",
   "metadata": {},
   "outputs": [
    {
     "data": {
      "text/html": [
       "<div>\n",
       "<style scoped>\n",
       "    .dataframe tbody tr th:only-of-type {\n",
       "        vertical-align: middle;\n",
       "    }\n",
       "\n",
       "    .dataframe tbody tr th {\n",
       "        vertical-align: top;\n",
       "    }\n",
       "\n",
       "    .dataframe thead th {\n",
       "        text-align: right;\n",
       "    }\n",
       "</style>\n",
       "<table border=\"1\" class=\"dataframe\">\n",
       "  <thead>\n",
       "    <tr style=\"text-align: right;\">\n",
       "      <th></th>\n",
       "      <th>coaster_name</th>\n",
       "      <th>Length</th>\n",
       "      <th>Speed</th>\n",
       "      <th>Location</th>\n",
       "      <th>Status</th>\n",
       "      <th>Opening date</th>\n",
       "      <th>Type</th>\n",
       "      <th>Manufacturer</th>\n",
       "      <th>Height restriction</th>\n",
       "      <th>Model</th>\n",
       "      <th>...</th>\n",
       "      <th>speed1</th>\n",
       "      <th>speed2</th>\n",
       "      <th>speed1_value</th>\n",
       "      <th>speed1_unit</th>\n",
       "      <th>speed_mph</th>\n",
       "      <th>height_value</th>\n",
       "      <th>height_unit</th>\n",
       "      <th>height_ft</th>\n",
       "      <th>Inversions_clean</th>\n",
       "      <th>Gforce_clean</th>\n",
       "    </tr>\n",
       "  </thead>\n",
       "  <tbody>\n",
       "    <tr>\n",
       "      <th>0</th>\n",
       "      <td>Switchback Railway</td>\n",
       "      <td>600 ft (180 m)</td>\n",
       "      <td>6 mph (9.7 km/h)</td>\n",
       "      <td>Coney Island</td>\n",
       "      <td>Removed</td>\n",
       "      <td>June 16, 1884</td>\n",
       "      <td>Wood</td>\n",
       "      <td>LaMarcus Adna Thompson</td>\n",
       "      <td>NaN</td>\n",
       "      <td>Lift Packed</td>\n",
       "      <td>...</td>\n",
       "      <td>6 mph</td>\n",
       "      <td>9.7 km/h</td>\n",
       "      <td>6.0</td>\n",
       "      <td>mph</td>\n",
       "      <td>6.0</td>\n",
       "      <td>50.0</td>\n",
       "      <td>ft</td>\n",
       "      <td>NaN</td>\n",
       "      <td>0</td>\n",
       "      <td>2.9</td>\n",
       "    </tr>\n",
       "    <tr>\n",
       "      <th>1</th>\n",
       "      <td>Flip Flap Railway</td>\n",
       "      <td>NaN</td>\n",
       "      <td>NaN</td>\n",
       "      <td>Sea Lion Park</td>\n",
       "      <td>Removed</td>\n",
       "      <td>1895</td>\n",
       "      <td>Wood</td>\n",
       "      <td>Lina Beecher</td>\n",
       "      <td>NaN</td>\n",
       "      <td>NaN</td>\n",
       "      <td>...</td>\n",
       "      <td>NaN</td>\n",
       "      <td>NaN</td>\n",
       "      <td>NaN</td>\n",
       "      <td>NaN</td>\n",
       "      <td>NaN</td>\n",
       "      <td>NaN</td>\n",
       "      <td>NaN</td>\n",
       "      <td>NaN</td>\n",
       "      <td>1</td>\n",
       "      <td>12.0</td>\n",
       "    </tr>\n",
       "    <tr>\n",
       "      <th>2</th>\n",
       "      <td>Switchback Railway (Euclid Beach Park)</td>\n",
       "      <td>NaN</td>\n",
       "      <td>NaN</td>\n",
       "      <td>Cleveland, Ohio, United States</td>\n",
       "      <td>Closed</td>\n",
       "      <td>NaN</td>\n",
       "      <td>Other</td>\n",
       "      <td>NaN</td>\n",
       "      <td>NaN</td>\n",
       "      <td>NaN</td>\n",
       "      <td>...</td>\n",
       "      <td>NaN</td>\n",
       "      <td>NaN</td>\n",
       "      <td>NaN</td>\n",
       "      <td>NaN</td>\n",
       "      <td>NaN</td>\n",
       "      <td>NaN</td>\n",
       "      <td>NaN</td>\n",
       "      <td>NaN</td>\n",
       "      <td>0</td>\n",
       "      <td>NaN</td>\n",
       "    </tr>\n",
       "    <tr>\n",
       "      <th>3</th>\n",
       "      <td>Loop the Loop (Coney Island)</td>\n",
       "      <td>NaN</td>\n",
       "      <td>NaN</td>\n",
       "      <td>Other</td>\n",
       "      <td>Removed</td>\n",
       "      <td>1901</td>\n",
       "      <td>Steel</td>\n",
       "      <td>Edwin Prescott</td>\n",
       "      <td>NaN</td>\n",
       "      <td>NaN</td>\n",
       "      <td>...</td>\n",
       "      <td>NaN</td>\n",
       "      <td>NaN</td>\n",
       "      <td>NaN</td>\n",
       "      <td>NaN</td>\n",
       "      <td>NaN</td>\n",
       "      <td>NaN</td>\n",
       "      <td>NaN</td>\n",
       "      <td>NaN</td>\n",
       "      <td>1</td>\n",
       "      <td>NaN</td>\n",
       "    </tr>\n",
       "    <tr>\n",
       "      <th>4</th>\n",
       "      <td>Loop the Loop (Young's Pier)</td>\n",
       "      <td>NaN</td>\n",
       "      <td>NaN</td>\n",
       "      <td>Other</td>\n",
       "      <td>Removed</td>\n",
       "      <td>1901</td>\n",
       "      <td>Steel</td>\n",
       "      <td>Edwin Prescott</td>\n",
       "      <td>NaN</td>\n",
       "      <td>NaN</td>\n",
       "      <td>...</td>\n",
       "      <td>NaN</td>\n",
       "      <td>NaN</td>\n",
       "      <td>NaN</td>\n",
       "      <td>NaN</td>\n",
       "      <td>NaN</td>\n",
       "      <td>NaN</td>\n",
       "      <td>NaN</td>\n",
       "      <td>NaN</td>\n",
       "      <td>1</td>\n",
       "      <td>NaN</td>\n",
       "    </tr>\n",
       "  </tbody>\n",
       "</table>\n",
       "<p>5 rows × 56 columns</p>\n",
       "</div>"
      ],
      "text/plain": [
       "                             coaster_name          Length             Speed  \\\n",
       "0                      Switchback Railway  600 ft (180 m)  6 mph (9.7 km/h)   \n",
       "1                       Flip Flap Railway             NaN               NaN   \n",
       "2  Switchback Railway (Euclid Beach Park)             NaN               NaN   \n",
       "3            Loop the Loop (Coney Island)             NaN               NaN   \n",
       "4            Loop the Loop (Young's Pier)             NaN               NaN   \n",
       "\n",
       "                         Location   Status   Opening date   Type  \\\n",
       "0                    Coney Island  Removed  June 16, 1884   Wood   \n",
       "1                   Sea Lion Park  Removed           1895   Wood   \n",
       "2  Cleveland, Ohio, United States   Closed            NaN  Other   \n",
       "3                           Other  Removed           1901  Steel   \n",
       "4                           Other  Removed           1901  Steel   \n",
       "\n",
       "             Manufacturer Height restriction        Model  ...  speed1  \\\n",
       "0  LaMarcus Adna Thompson                NaN  Lift Packed  ...  6 mph    \n",
       "1            Lina Beecher                NaN          NaN  ...     NaN   \n",
       "2                     NaN                NaN          NaN  ...     NaN   \n",
       "3          Edwin Prescott                NaN          NaN  ...     NaN   \n",
       "4          Edwin Prescott                NaN          NaN  ...     NaN   \n",
       "\n",
       "     speed2 speed1_value speed1_unit speed_mph height_value height_unit  \\\n",
       "0  9.7 km/h          6.0         mph       6.0         50.0          ft   \n",
       "1       NaN          NaN         NaN       NaN          NaN         NaN   \n",
       "2       NaN          NaN         NaN       NaN          NaN         NaN   \n",
       "3       NaN          NaN         NaN       NaN          NaN         NaN   \n",
       "4       NaN          NaN         NaN       NaN          NaN         NaN   \n",
       "\n",
       "  height_ft Inversions_clean Gforce_clean  \n",
       "0       NaN                0          2.9  \n",
       "1       NaN                1         12.0  \n",
       "2       NaN                0          NaN  \n",
       "3       NaN                1          NaN  \n",
       "4       NaN                1          NaN  \n",
       "\n",
       "[5 rows x 56 columns]"
      ]
     },
     "execution_count": 7,
     "metadata": {},
     "output_type": "execute_result"
    }
   ],
   "source": [
    "df.head()"
   ]
  },
  {
   "cell_type": "markdown",
   "id": "de0e9279-887b-4709-84e1-7a9133b9d085",
   "metadata": {},
   "source": [
    " - DataFrame Summary"
   ]
  },
  {
   "cell_type": "code",
   "execution_count": 8,
   "id": "b99bc94b-1f6a-4e02-8316-aa6446f26006",
   "metadata": {},
   "outputs": [
    {
     "name": "stdout",
     "output_type": "stream",
     "text": [
      "<class 'pandas.core.frame.DataFrame'>\n",
      "RangeIndex: 1087 entries, 0 to 1086\n",
      "Data columns (total 56 columns):\n",
      " #   Column                         Non-Null Count  Dtype  \n",
      "---  ------                         --------------  -----  \n",
      " 0   coaster_name                   1087 non-null   object \n",
      " 1   Length                         953 non-null    object \n",
      " 2   Speed                          937 non-null    object \n",
      " 3   Location                       1087 non-null   object \n",
      " 4   Status                         874 non-null    object \n",
      " 5   Opening date                   837 non-null    object \n",
      " 6   Type                           1087 non-null   object \n",
      " 7   Manufacturer                   1028 non-null   object \n",
      " 8   Height restriction             831 non-null    object \n",
      " 9   Model                          744 non-null    object \n",
      " 10  Height                         965 non-null    object \n",
      " 11  Inversions                     932 non-null    float64\n",
      " 12  Lift/launch system             795 non-null    object \n",
      " 13  Cost                           382 non-null    object \n",
      " 14  Trains                         718 non-null    object \n",
      " 15  Park section                   487 non-null    object \n",
      " 16  Duration                       765 non-null    object \n",
      " 17  Capacity                       575 non-null    object \n",
      " 18  G-force                        362 non-null    object \n",
      " 19  Designer                       578 non-null    object \n",
      " 20  Max vertical angle             357 non-null    object \n",
      " 21  Drop                           494 non-null    object \n",
      " 22  Soft opening date              96 non-null     object \n",
      " 23  Fast Lane available            69 non-null     object \n",
      " 24  Replaced                       173 non-null    object \n",
      " 25  Track layout                   335 non-null    object \n",
      " 26  Fastrack available             19 non-null     object \n",
      " 27  Soft opening date.1            96 non-null     object \n",
      " 28  Closing date                   236 non-null    object \n",
      " 29  Opened                         27 non-null     object \n",
      " 30  Replaced by                    88 non-null     object \n",
      " 31  Website                        87 non-null     object \n",
      " 32  Flash Pass Available           50 non-null     object \n",
      " 33  Must transfer from wheelchair  106 non-null    object \n",
      " 34  Theme                          44 non-null     object \n",
      " 35  Single rider line available    81 non-null     object \n",
      " 36  Restraint Style                22 non-null     object \n",
      " 37  Flash Pass available           46 non-null     object \n",
      " 38  Acceleration                   60 non-null     object \n",
      " 39  Restraints                     24 non-null     object \n",
      " 40  Name                           35 non-null     object \n",
      " 41  year_introduced                1087 non-null   int64  \n",
      " 42  latitude                       812 non-null    float64\n",
      " 43  longitude                      812 non-null    float64\n",
      " 44  Type_Main                      1087 non-null   object \n",
      " 45  opening_date_clean             837 non-null    object \n",
      " 46  speed1                         937 non-null    object \n",
      " 47  speed2                         935 non-null    object \n",
      " 48  speed1_value                   937 non-null    float64\n",
      " 49  speed1_unit                    937 non-null    object \n",
      " 50  speed_mph                      937 non-null    float64\n",
      " 51  height_value                   965 non-null    float64\n",
      " 52  height_unit                    965 non-null    object \n",
      " 53  height_ft                      171 non-null    float64\n",
      " 54  Inversions_clean               1087 non-null   int64  \n",
      " 55  Gforce_clean                   362 non-null    float64\n",
      "dtypes: float64(8), int64(2), object(46)\n",
      "memory usage: 475.7+ KB\n"
     ]
    }
   ],
   "source": [
    "df.info()"
   ]
  },
  {
   "cell_type": "markdown",
   "id": "4e00a39b-7c0f-4fa7-912b-30688f823b8e",
   "metadata": {},
   "source": [
    "### Data Preparation"
   ]
  },
  {
   "cell_type": "markdown",
   "id": "cdc74385-2e3f-4e6c-90ec-636b251cffde",
   "metadata": {},
   "source": [
    "#### Subset relevant columns"
   ]
  },
  {
   "cell_type": "code",
   "execution_count": 9,
   "id": "7452edbf-8015-4dff-89df-7e559fbd8b1f",
   "metadata": {},
   "outputs": [],
   "source": [
    "df = df[[\n",
    "    'coaster_name', \n",
    "    #'Length', 'Speed', \n",
    "    'Location', 'Status', \n",
    "    #'Opening date','Type', \n",
    "    'Manufacturer', \n",
    "    # 'Height restriction', 'Model', 'Height',\n",
    "    #    'Inversions', 'Lift/launch system', 'Cost', 'Trains', 'Park section',\n",
    "    #    'Duration', 'Capacity', 'G-force', 'Designer', 'Max vertical angle',\n",
    "    #    'Drop', 'Soft opening date', 'Fast Lane available', 'Replaced',\n",
    "    #    'Track layout', 'Fastrack available', 'Soft opening date.1',\n",
    "    #    'Closing date', 'Opened', 'Replaced by', 'Website',\n",
    "    #    'Flash Pass Available', 'Must transfer from wheelchair', 'Theme',\n",
    "       # 'Single rider line available', 'Restraint Style',\n",
    "       # 'Flash Pass available', 'Acceleration', 'Restraints', 'Name',\n",
    "       'year_introduced', 'latitude', 'longitude', 'Type_Main',\n",
    "       'opening_date_clean', \n",
    "    # 'speed1', 'speed2', 'speed1_value', 'speed1_unit',\n",
    "       'speed_mph', \n",
    "    # 'height_value', 'height_unit', \n",
    "    'height_ft',\n",
    "       'Inversions_clean', 'Gforce_clean']].copy()\n"
   ]
  },
  {
   "cell_type": "code",
   "execution_count": 10,
   "id": "ed13190d-15a1-4c68-8479-38a2c4e4f95e",
   "metadata": {},
   "outputs": [
    {
     "data": {
      "text/plain": [
       "Index(['coaster_name', 'Location', 'Status', 'Manufacturer', 'year_introduced',\n",
       "       'latitude', 'longitude', 'Type_Main', 'opening_date_clean', 'speed_mph',\n",
       "       'height_ft', 'Inversions_clean', 'Gforce_clean'],\n",
       "      dtype='object')"
      ]
     },
     "execution_count": 10,
     "metadata": {},
     "output_type": "execute_result"
    }
   ],
   "source": [
    "df.columns"
   ]
  },
  {
   "cell_type": "code",
   "execution_count": 11,
   "id": "2d07620e-8132-4f1c-9582-e148708186eb",
   "metadata": {},
   "outputs": [
    {
     "data": {
      "text/html": [
       "<div>\n",
       "<style scoped>\n",
       "    .dataframe tbody tr th:only-of-type {\n",
       "        vertical-align: middle;\n",
       "    }\n",
       "\n",
       "    .dataframe tbody tr th {\n",
       "        vertical-align: top;\n",
       "    }\n",
       "\n",
       "    .dataframe thead th {\n",
       "        text-align: right;\n",
       "    }\n",
       "</style>\n",
       "<table border=\"1\" class=\"dataframe\">\n",
       "  <thead>\n",
       "    <tr style=\"text-align: right;\">\n",
       "      <th></th>\n",
       "      <th>coaster_name</th>\n",
       "      <th>Location</th>\n",
       "      <th>Status</th>\n",
       "      <th>Manufacturer</th>\n",
       "      <th>year_introduced</th>\n",
       "      <th>latitude</th>\n",
       "      <th>longitude</th>\n",
       "      <th>Type_Main</th>\n",
       "      <th>opening_date_clean</th>\n",
       "      <th>speed_mph</th>\n",
       "      <th>height_ft</th>\n",
       "      <th>Inversions_clean</th>\n",
       "      <th>Gforce_clean</th>\n",
       "    </tr>\n",
       "  </thead>\n",
       "  <tbody>\n",
       "    <tr>\n",
       "      <th>0</th>\n",
       "      <td>Switchback Railway</td>\n",
       "      <td>Coney Island</td>\n",
       "      <td>Removed</td>\n",
       "      <td>LaMarcus Adna Thompson</td>\n",
       "      <td>1884</td>\n",
       "      <td>40.5740</td>\n",
       "      <td>-73.9780</td>\n",
       "      <td>Wood</td>\n",
       "      <td>1884-06-16</td>\n",
       "      <td>6.0</td>\n",
       "      <td>NaN</td>\n",
       "      <td>0</td>\n",
       "      <td>2.9</td>\n",
       "    </tr>\n",
       "    <tr>\n",
       "      <th>1</th>\n",
       "      <td>Flip Flap Railway</td>\n",
       "      <td>Sea Lion Park</td>\n",
       "      <td>Removed</td>\n",
       "      <td>Lina Beecher</td>\n",
       "      <td>1895</td>\n",
       "      <td>40.5780</td>\n",
       "      <td>-73.9790</td>\n",
       "      <td>Wood</td>\n",
       "      <td>1895-01-01</td>\n",
       "      <td>NaN</td>\n",
       "      <td>NaN</td>\n",
       "      <td>1</td>\n",
       "      <td>12.0</td>\n",
       "    </tr>\n",
       "    <tr>\n",
       "      <th>2</th>\n",
       "      <td>Switchback Railway (Euclid Beach Park)</td>\n",
       "      <td>Cleveland, Ohio, United States</td>\n",
       "      <td>Closed</td>\n",
       "      <td>NaN</td>\n",
       "      <td>1896</td>\n",
       "      <td>41.5800</td>\n",
       "      <td>-81.5700</td>\n",
       "      <td>Other</td>\n",
       "      <td>NaN</td>\n",
       "      <td>NaN</td>\n",
       "      <td>NaN</td>\n",
       "      <td>0</td>\n",
       "      <td>NaN</td>\n",
       "    </tr>\n",
       "    <tr>\n",
       "      <th>3</th>\n",
       "      <td>Loop the Loop (Coney Island)</td>\n",
       "      <td>Other</td>\n",
       "      <td>Removed</td>\n",
       "      <td>Edwin Prescott</td>\n",
       "      <td>1901</td>\n",
       "      <td>40.5745</td>\n",
       "      <td>-73.9780</td>\n",
       "      <td>Steel</td>\n",
       "      <td>1901-01-01</td>\n",
       "      <td>NaN</td>\n",
       "      <td>NaN</td>\n",
       "      <td>1</td>\n",
       "      <td>NaN</td>\n",
       "    </tr>\n",
       "    <tr>\n",
       "      <th>4</th>\n",
       "      <td>Loop the Loop (Young's Pier)</td>\n",
       "      <td>Other</td>\n",
       "      <td>Removed</td>\n",
       "      <td>Edwin Prescott</td>\n",
       "      <td>1901</td>\n",
       "      <td>39.3538</td>\n",
       "      <td>-74.4342</td>\n",
       "      <td>Steel</td>\n",
       "      <td>1901-01-01</td>\n",
       "      <td>NaN</td>\n",
       "      <td>NaN</td>\n",
       "      <td>1</td>\n",
       "      <td>NaN</td>\n",
       "    </tr>\n",
       "  </tbody>\n",
       "</table>\n",
       "</div>"
      ],
      "text/plain": [
       "                             coaster_name                        Location  \\\n",
       "0                      Switchback Railway                    Coney Island   \n",
       "1                       Flip Flap Railway                   Sea Lion Park   \n",
       "2  Switchback Railway (Euclid Beach Park)  Cleveland, Ohio, United States   \n",
       "3            Loop the Loop (Coney Island)                           Other   \n",
       "4            Loop the Loop (Young's Pier)                           Other   \n",
       "\n",
       "    Status            Manufacturer  year_introduced  latitude  longitude  \\\n",
       "0  Removed  LaMarcus Adna Thompson             1884   40.5740   -73.9780   \n",
       "1  Removed            Lina Beecher             1895   40.5780   -73.9790   \n",
       "2   Closed                     NaN             1896   41.5800   -81.5700   \n",
       "3  Removed          Edwin Prescott             1901   40.5745   -73.9780   \n",
       "4  Removed          Edwin Prescott             1901   39.3538   -74.4342   \n",
       "\n",
       "  Type_Main opening_date_clean  speed_mph  height_ft  Inversions_clean  \\\n",
       "0      Wood         1884-06-16        6.0        NaN                 0   \n",
       "1      Wood         1895-01-01        NaN        NaN                 1   \n",
       "2     Other                NaN        NaN        NaN                 0   \n",
       "3     Steel         1901-01-01        NaN        NaN                 1   \n",
       "4     Steel         1901-01-01        NaN        NaN                 1   \n",
       "\n",
       "   Gforce_clean  \n",
       "0           2.9  \n",
       "1          12.0  \n",
       "2           NaN  \n",
       "3           NaN  \n",
       "4           NaN  "
      ]
     },
     "metadata": {},
     "output_type": "display_data"
    }
   ],
   "source": [
    "display(df.head())"
   ]
  },
  {
   "cell_type": "markdown",
   "id": "6432af61-1de5-461c-aec7-2a2932f78e08",
   "metadata": {},
   "source": [
    " - Convert from _string_ to _datetime_"
   ]
  },
  {
   "cell_type": "code",
   "execution_count": 12,
   "id": "e49d10ab-9daf-436d-8854-4e17d5ee6d9b",
   "metadata": {},
   "outputs": [
    {
     "name": "stdout",
     "output_type": "stream",
     "text": [
      "<class 'pandas.core.series.Series'>\n",
      "RangeIndex: 1087 entries, 0 to 1086\n",
      "Series name: opening_date_clean\n",
      "Non-Null Count  Dtype         \n",
      "--------------  -----         \n",
      "837 non-null    datetime64[ns]\n",
      "dtypes: datetime64[ns](1)\n",
      "memory usage: 8.6 KB\n"
     ]
    }
   ],
   "source": [
    "df['opening_date_clean'] = pd.to_datetime(df['opening_date_clean'])\n",
    "df['opening_date_clean'] .info()"
   ]
  },
  {
   "cell_type": "markdown",
   "id": "178c0257-7323-4805-b2f6-95d5af56b268",
   "metadata": {},
   "source": [
    "- Rename Columns"
   ]
  },
  {
   "cell_type": "code",
   "execution_count": 13,
   "id": "2bf9874d-eeb2-4e25-9136-f7aa6a931fe7",
   "metadata": {},
   "outputs": [],
   "source": [
    "df = df.rename(columns = {'coaster_name': 'Coaster_Name',                         \n",
    "                          'year_introduced':'Year_Introduced',                          \n",
    "                          'opening_date_clean':'Opening_Date', \n",
    "                          'speed_mph':'Speed_mph',\n",
    "                          'height_ft':'Height_ft', \n",
    "                          'Inversions_clean':'Inversions', \n",
    "                          'Gforce_clean':'Gforce'\n",
    "                         })"
   ]
  },
  {
   "cell_type": "code",
   "execution_count": 14,
   "id": "b29cb220-01b5-4443-8644-d8d43a79cf1e",
   "metadata": {},
   "outputs": [
    {
     "data": {
      "text/plain": [
       "Coaster_Name         0\n",
       "Location             0\n",
       "Status             213\n",
       "Manufacturer        59\n",
       "Year_Introduced      0\n",
       "latitude           275\n",
       "longitude          275\n",
       "Type_Main            0\n",
       "Opening_Date       250\n",
       "Speed_mph          150\n",
       "Height_ft          916\n",
       "Inversions           0\n",
       "Gforce             725\n",
       "dtype: int64"
      ]
     },
     "execution_count": 14,
     "metadata": {},
     "output_type": "execute_result"
    }
   ],
   "source": [
    "df.isna().sum()\n"
   ]
  },
  {
   "cell_type": "code",
   "execution_count": 15,
   "id": "1bce6399-d91e-4592-9160-f53cff163a9d",
   "metadata": {},
   "outputs": [
    {
     "data": {
      "text/html": [
       "<div>\n",
       "<style scoped>\n",
       "    .dataframe tbody tr th:only-of-type {\n",
       "        vertical-align: middle;\n",
       "    }\n",
       "\n",
       "    .dataframe tbody tr th {\n",
       "        vertical-align: top;\n",
       "    }\n",
       "\n",
       "    .dataframe thead th {\n",
       "        text-align: right;\n",
       "    }\n",
       "</style>\n",
       "<table border=\"1\" class=\"dataframe\">\n",
       "  <thead>\n",
       "    <tr style=\"text-align: right;\">\n",
       "      <th></th>\n",
       "      <th>Coaster_Name</th>\n",
       "      <th>Location</th>\n",
       "      <th>Status</th>\n",
       "      <th>Manufacturer</th>\n",
       "      <th>Year_Introduced</th>\n",
       "      <th>latitude</th>\n",
       "      <th>longitude</th>\n",
       "      <th>Type_Main</th>\n",
       "      <th>Opening_Date</th>\n",
       "      <th>Speed_mph</th>\n",
       "      <th>Height_ft</th>\n",
       "      <th>Inversions</th>\n",
       "      <th>Gforce</th>\n",
       "    </tr>\n",
       "  </thead>\n",
       "  <tbody>\n",
       "  </tbody>\n",
       "</table>\n",
       "</div>"
      ],
      "text/plain": [
       "Empty DataFrame\n",
       "Columns: [Coaster_Name, Location, Status, Manufacturer, Year_Introduced, latitude, longitude, Type_Main, Opening_Date, Speed_mph, Height_ft, Inversions, Gforce]\n",
       "Index: []"
      ]
     },
     "execution_count": 15,
     "metadata": {},
     "output_type": "execute_result"
    }
   ],
   "source": [
    "df.loc[df.duplicated()]"
   ]
  },
  {
   "cell_type": "markdown",
   "id": "a1619a97-a74f-46f9-9a56-82fcd6733884",
   "metadata": {},
   "source": [
    " - Check _Coaster Name_ duplicate"
   ]
  },
  {
   "cell_type": "code",
   "execution_count": 16,
   "id": "ae96b1ab-9a26-485c-bcaf-598d964cdb89",
   "metadata": {},
   "outputs": [
    {
     "data": {
      "text/html": [
       "<div>\n",
       "<style scoped>\n",
       "    .dataframe tbody tr th:only-of-type {\n",
       "        vertical-align: middle;\n",
       "    }\n",
       "\n",
       "    .dataframe tbody tr th {\n",
       "        vertical-align: top;\n",
       "    }\n",
       "\n",
       "    .dataframe thead th {\n",
       "        text-align: right;\n",
       "    }\n",
       "</style>\n",
       "<table border=\"1\" class=\"dataframe\">\n",
       "  <thead>\n",
       "    <tr style=\"text-align: right;\">\n",
       "      <th></th>\n",
       "      <th>Coaster_Name</th>\n",
       "      <th>Location</th>\n",
       "      <th>Status</th>\n",
       "      <th>Manufacturer</th>\n",
       "      <th>Year_Introduced</th>\n",
       "      <th>latitude</th>\n",
       "      <th>longitude</th>\n",
       "      <th>Type_Main</th>\n",
       "      <th>Opening_Date</th>\n",
       "      <th>Speed_mph</th>\n",
       "      <th>Height_ft</th>\n",
       "      <th>Inversions</th>\n",
       "      <th>Gforce</th>\n",
       "    </tr>\n",
       "  </thead>\n",
       "  <tbody>\n",
       "    <tr>\n",
       "      <th>43</th>\n",
       "      <td>Crystal Beach Cyclone</td>\n",
       "      <td>Crystal Beach Park</td>\n",
       "      <td>Removed</td>\n",
       "      <td>Traver Engineering</td>\n",
       "      <td>1927</td>\n",
       "      <td>42.8617</td>\n",
       "      <td>-79.0598</td>\n",
       "      <td>Wood</td>\n",
       "      <td>1926-01-01</td>\n",
       "      <td>60.0</td>\n",
       "      <td>NaN</td>\n",
       "      <td>0</td>\n",
       "      <td>4.0</td>\n",
       "    </tr>\n",
       "    <tr>\n",
       "      <th>60</th>\n",
       "      <td>Derby Racer</td>\n",
       "      <td>Revere Beach</td>\n",
       "      <td>Removed</td>\n",
       "      <td>Fred W. Pearce</td>\n",
       "      <td>1937</td>\n",
       "      <td>42.4200</td>\n",
       "      <td>-70.9860</td>\n",
       "      <td>Wood</td>\n",
       "      <td>1911-01-01</td>\n",
       "      <td>NaN</td>\n",
       "      <td>NaN</td>\n",
       "      <td>0</td>\n",
       "      <td>NaN</td>\n",
       "    </tr>\n",
       "    <tr>\n",
       "      <th>61</th>\n",
       "      <td>Blue Streak (Conneaut Lake)</td>\n",
       "      <td>Conneaut Lake Park</td>\n",
       "      <td>Closed</td>\n",
       "      <td>NaN</td>\n",
       "      <td>1938</td>\n",
       "      <td>41.6349</td>\n",
       "      <td>-80.3180</td>\n",
       "      <td>Wood</td>\n",
       "      <td>1938-05-23</td>\n",
       "      <td>50.0</td>\n",
       "      <td>NaN</td>\n",
       "      <td>0</td>\n",
       "      <td>NaN</td>\n",
       "    </tr>\n",
       "    <tr>\n",
       "      <th>167</th>\n",
       "      <td>Big Thunder Mountain Railroad</td>\n",
       "      <td>Other</td>\n",
       "      <td>NaN</td>\n",
       "      <td>Arrow Development (California and Florida)Dyna...</td>\n",
       "      <td>1980</td>\n",
       "      <td>NaN</td>\n",
       "      <td>NaN</td>\n",
       "      <td>Steel</td>\n",
       "      <td>NaT</td>\n",
       "      <td>35.0</td>\n",
       "      <td>NaN</td>\n",
       "      <td>0</td>\n",
       "      <td>NaN</td>\n",
       "    </tr>\n",
       "    <tr>\n",
       "      <th>237</th>\n",
       "      <td>Thunder Run (Canada's Wonderland)</td>\n",
       "      <td>Canada's Wonderland</td>\n",
       "      <td>Operating</td>\n",
       "      <td>Mack Rides</td>\n",
       "      <td>1986</td>\n",
       "      <td>43.8427</td>\n",
       "      <td>-79.5423</td>\n",
       "      <td>Steel</td>\n",
       "      <td>1981-05-23</td>\n",
       "      <td>39.8</td>\n",
       "      <td>32.8</td>\n",
       "      <td>0</td>\n",
       "      <td>NaN</td>\n",
       "    </tr>\n",
       "  </tbody>\n",
       "</table>\n",
       "</div>"
      ],
      "text/plain": [
       "                          Coaster_Name             Location     Status  \\\n",
       "43               Crystal Beach Cyclone   Crystal Beach Park    Removed   \n",
       "60                         Derby Racer         Revere Beach    Removed   \n",
       "61         Blue Streak (Conneaut Lake)   Conneaut Lake Park     Closed   \n",
       "167      Big Thunder Mountain Railroad                Other        NaN   \n",
       "237  Thunder Run (Canada's Wonderland)  Canada's Wonderland  Operating   \n",
       "\n",
       "                                          Manufacturer  Year_Introduced  \\\n",
       "43                                  Traver Engineering             1927   \n",
       "60                                      Fred W. Pearce             1937   \n",
       "61                                                 NaN             1938   \n",
       "167  Arrow Development (California and Florida)Dyna...             1980   \n",
       "237                                         Mack Rides             1986   \n",
       "\n",
       "     latitude  longitude Type_Main Opening_Date  Speed_mph  Height_ft  \\\n",
       "43    42.8617   -79.0598      Wood   1926-01-01       60.0        NaN   \n",
       "60    42.4200   -70.9860      Wood   1911-01-01        NaN        NaN   \n",
       "61    41.6349   -80.3180      Wood   1938-05-23       50.0        NaN   \n",
       "167       NaN        NaN     Steel          NaT       35.0        NaN   \n",
       "237   43.8427   -79.5423     Steel   1981-05-23       39.8       32.8   \n",
       "\n",
       "     Inversions  Gforce  \n",
       "43            0     4.0  \n",
       "60            0     NaN  \n",
       "61            0     NaN  \n",
       "167           0     NaN  \n",
       "237           0     NaN  "
      ]
     },
     "execution_count": 16,
     "metadata": {},
     "output_type": "execute_result"
    }
   ],
   "source": [
    "df.loc[df.duplicated(subset=['Coaster_Name'])].head()\n"
   ]
  },
  {
   "cell_type": "markdown",
   "id": "9d4b2c8c-10f2-4cd8-abd3-6c5d237785df",
   "metadata": {},
   "source": [
    "- Check a _Coaster Name_ duplicate sample"
   ]
  },
  {
   "cell_type": "code",
   "execution_count": 17,
   "id": "6c6e34d3-ee48-47a9-a7b0-bef84425ffa4",
   "metadata": {},
   "outputs": [
    {
     "data": {
      "text/html": [
       "<div>\n",
       "<style scoped>\n",
       "    .dataframe tbody tr th:only-of-type {\n",
       "        vertical-align: middle;\n",
       "    }\n",
       "\n",
       "    .dataframe tbody tr th {\n",
       "        vertical-align: top;\n",
       "    }\n",
       "\n",
       "    .dataframe thead th {\n",
       "        text-align: right;\n",
       "    }\n",
       "</style>\n",
       "<table border=\"1\" class=\"dataframe\">\n",
       "  <thead>\n",
       "    <tr style=\"text-align: right;\">\n",
       "      <th></th>\n",
       "      <th>Coaster_Name</th>\n",
       "      <th>Location</th>\n",
       "      <th>Status</th>\n",
       "      <th>Manufacturer</th>\n",
       "      <th>Year_Introduced</th>\n",
       "      <th>latitude</th>\n",
       "      <th>longitude</th>\n",
       "      <th>Type_Main</th>\n",
       "      <th>Opening_Date</th>\n",
       "      <th>Speed_mph</th>\n",
       "      <th>Height_ft</th>\n",
       "      <th>Inversions</th>\n",
       "      <th>Gforce</th>\n",
       "    </tr>\n",
       "  </thead>\n",
       "  <tbody>\n",
       "    <tr>\n",
       "      <th>159</th>\n",
       "      <td>Big Thunder Mountain Railroad</td>\n",
       "      <td>Other</td>\n",
       "      <td>NaN</td>\n",
       "      <td>Arrow Development (California and Florida)Dyna...</td>\n",
       "      <td>1979</td>\n",
       "      <td>NaN</td>\n",
       "      <td>NaN</td>\n",
       "      <td>Steel</td>\n",
       "      <td>NaT</td>\n",
       "      <td>35.0</td>\n",
       "      <td>NaN</td>\n",
       "      <td>0</td>\n",
       "      <td>NaN</td>\n",
       "    </tr>\n",
       "    <tr>\n",
       "      <th>167</th>\n",
       "      <td>Big Thunder Mountain Railroad</td>\n",
       "      <td>Other</td>\n",
       "      <td>NaN</td>\n",
       "      <td>Arrow Development (California and Florida)Dyna...</td>\n",
       "      <td>1980</td>\n",
       "      <td>NaN</td>\n",
       "      <td>NaN</td>\n",
       "      <td>Steel</td>\n",
       "      <td>NaT</td>\n",
       "      <td>35.0</td>\n",
       "      <td>NaN</td>\n",
       "      <td>0</td>\n",
       "      <td>NaN</td>\n",
       "    </tr>\n",
       "    <tr>\n",
       "      <th>241</th>\n",
       "      <td>Big Thunder Mountain Railroad</td>\n",
       "      <td>Other</td>\n",
       "      <td>NaN</td>\n",
       "      <td>Arrow Development (California and Florida)Dyna...</td>\n",
       "      <td>1987</td>\n",
       "      <td>NaN</td>\n",
       "      <td>NaN</td>\n",
       "      <td>Steel</td>\n",
       "      <td>NaT</td>\n",
       "      <td>35.0</td>\n",
       "      <td>NaN</td>\n",
       "      <td>0</td>\n",
       "      <td>NaN</td>\n",
       "    </tr>\n",
       "    <tr>\n",
       "      <th>313</th>\n",
       "      <td>Big Thunder Mountain Railroad</td>\n",
       "      <td>Other</td>\n",
       "      <td>NaN</td>\n",
       "      <td>Arrow Development (California and Florida)Dyna...</td>\n",
       "      <td>1992</td>\n",
       "      <td>NaN</td>\n",
       "      <td>NaN</td>\n",
       "      <td>Steel</td>\n",
       "      <td>NaT</td>\n",
       "      <td>35.0</td>\n",
       "      <td>NaN</td>\n",
       "      <td>0</td>\n",
       "      <td>NaN</td>\n",
       "    </tr>\n",
       "  </tbody>\n",
       "</table>\n",
       "</div>"
      ],
      "text/plain": [
       "                      Coaster_Name Location Status  \\\n",
       "159  Big Thunder Mountain Railroad    Other    NaN   \n",
       "167  Big Thunder Mountain Railroad    Other    NaN   \n",
       "241  Big Thunder Mountain Railroad    Other    NaN   \n",
       "313  Big Thunder Mountain Railroad    Other    NaN   \n",
       "\n",
       "                                          Manufacturer  Year_Introduced  \\\n",
       "159  Arrow Development (California and Florida)Dyna...             1979   \n",
       "167  Arrow Development (California and Florida)Dyna...             1980   \n",
       "241  Arrow Development (California and Florida)Dyna...             1987   \n",
       "313  Arrow Development (California and Florida)Dyna...             1992   \n",
       "\n",
       "     latitude  longitude Type_Main Opening_Date  Speed_mph  Height_ft  \\\n",
       "159       NaN        NaN     Steel          NaT       35.0        NaN   \n",
       "167       NaN        NaN     Steel          NaT       35.0        NaN   \n",
       "241       NaN        NaN     Steel          NaT       35.0        NaN   \n",
       "313       NaN        NaN     Steel          NaT       35.0        NaN   \n",
       "\n",
       "     Inversions  Gforce  \n",
       "159           0     NaN  \n",
       "167           0     NaN  \n",
       "241           0     NaN  \n",
       "313           0     NaN  "
      ]
     },
     "execution_count": 17,
     "metadata": {},
     "output_type": "execute_result"
    }
   ],
   "source": [
    "df.query('Coaster_Name == \"Big Thunder Mountain Railroad\" ')"
   ]
  },
  {
   "cell_type": "code",
   "execution_count": 18,
   "id": "baa2386c-499f-4fc2-8895-5f0587ec9b8b",
   "metadata": {},
   "outputs": [],
   "source": [
    "df = df.loc[~df.duplicated(subset=['Coaster_Name','Location','Opening_Date'])] \\\n",
    "    .reset_index(drop=True).copy()\n",
    "\n",
    " # df.duplicated(subset=['Coaster_Name','Location','Opening_Date'])"
   ]
  },
  {
   "cell_type": "code",
   "execution_count": 19,
   "id": "3d29c3ce-b327-43a4-b737-ca404b91506c",
   "metadata": {},
   "outputs": [
    {
     "data": {
      "text/plain": [
       "(990, 13)"
      ]
     },
     "execution_count": 19,
     "metadata": {},
     "output_type": "execute_result"
    }
   ],
   "source": [
    "df.shape"
   ]
  },
  {
   "cell_type": "markdown",
   "id": "147906dd-0034-4fc0-8492-b6695c5daaf0",
   "metadata": {},
   "source": [
    "## Plotting Feature Distributions"
   ]
  },
  {
   "cell_type": "markdown",
   "id": "b0f5ca7a-9736-4db1-a182-c6e6b84e6953",
   "metadata": {},
   "source": [
    "### Histogram"
   ]
  },
  {
   "cell_type": "code",
   "execution_count": 20,
   "id": "dd85f83b-967f-492f-b0f3-bcc15e38af1a",
   "metadata": {},
   "outputs": [
    {
     "data": {
      "text/plain": [
       "Year_Introduced\n",
       "1999    46\n",
       "2000    45\n",
       "1998    30\n",
       "2001    29\n",
       "2002    28\n",
       "        ..\n",
       "1956     1\n",
       "1959     1\n",
       "1961     1\n",
       "1895     1\n",
       "1884     1\n",
       "Name: count, Length: 101, dtype: int64"
      ]
     },
     "execution_count": 20,
     "metadata": {},
     "output_type": "execute_result"
    }
   ],
   "source": [
    "df['Year_Introduced'].value_counts()"
   ]
  },
  {
   "cell_type": "code",
   "execution_count": 21,
   "id": "c879d656-b6b4-48df-afda-bbe21bb18780",
   "metadata": {},
   "outputs": [
    {
     "data": {
      "text/plain": [
       "Text(0, 0.5, 'Count')"
      ]
     },
     "execution_count": 21,
     "metadata": {},
     "output_type": "execute_result"
    },
    {
     "data": {
      "image/png": "[encoded data removed]",
      "text/plain": [
       "<Figure size 640x480 with 1 Axes>"
      ]
     },
     "metadata": {},
     "output_type": "display_data"
    }
   ],
   "source": [
    "graph = df['Year_Introduced'].value_counts() \\\n",
    "        .head(10) \\\n",
    "        .plot(kind='bar', title='Top 10 Years Coasters Introduced', color = 'cadetblue')\n",
    "graph.set_xlabel('Year Introduced')\n",
    "graph.set_ylabel('Count')"
   ]
  },
  {
   "cell_type": "code",
   "execution_count": 22,
   "id": "2ad3ea75-7c1f-468a-a6eb-eac029d3659d",
   "metadata": {},
   "outputs": [
    {
     "data": {
      "text/plain": [
       "Text(0.5, 0, 'Speed (mph)')"
      ]
     },
     "execution_count": 22,
     "metadata": {},
     "output_type": "execute_result"
    },
    {
     "data": {
      "image/png": "[encoded data removed]",
      "text/plain": [
       "<Figure size 640x480 with 1 Axes>"
      ]
     },
     "metadata": {},
     "output_type": "display_data"
    }
   ],
   "source": [
    "graph = df['Speed_mph'].plot(kind='hist', bins=20, title='Coaster Roller Speed (mph)',color = 'olive')\n",
    "\n",
    "graph.set_xlabel('Speed (mph)')"
   ]
  },
  {
   "cell_type": "markdown",
   "id": "5d377248-3291-4a83-9b7f-ac3f0cdc4a75",
   "metadata": {},
   "source": [
    "### Kernel density estimation "
   ]
  },
  {
   "cell_type": "code",
   "execution_count": 23,
   "id": "1b05ba3a-32a6-4f4c-95c1-13905ce7f7ee",
   "metadata": {},
   "outputs": [
    {
     "data": {
      "text/plain": [
       "Text(0.5, 0, 'Speed (mph)')"
      ]
     },
     "execution_count": 23,
     "metadata": {},
     "output_type": "execute_result"
    },
    {
     "data": {
      "image/png": "[encoded data removed]",
      "text/plain": [
       "<Figure size 640x480 with 1 Axes>"
      ]
     },
     "metadata": {},
     "output_type": "display_data"
    }
   ],
   "source": [
    "graph = df['Speed_mph'].plot(kind='kde', title='Coaster Roller Speed (mph)', color = 'purple')\n",
    "                          \n",
    "graph.set_xlabel('Speed (mph)')"
   ]
  },
  {
   "cell_type": "markdown",
   "id": "250a9a92-03c8-4a17-ba3e-28c47f494601",
   "metadata": {},
   "source": [
    "### Scatterplot"
   ]
  },
  {
   "cell_type": "code",
   "execution_count": 24,
   "id": "b2aa396b-6bd4-4a9f-ba4c-9d840888ba99",
   "metadata": {},
   "outputs": [
    {
     "data": {
      "text/plain": [
       "<Axes: title={'center': 'Roller Coaster Speed vs. Height'}, xlabel='Speed_mph', ylabel='Height_ft'>"
      ]
     },
     "execution_count": 24,
     "metadata": {},
     "output_type": "execute_result"
    },
    {
     "data": {
      "image/png": "[encoded data removed]",
      "text/plain": [
       "<Figure size 640x480 with 1 Axes>"
      ]
     },
     "metadata": {},
     "output_type": "display_data"
    }
   ],
   "source": [
    "df.plot(kind='scatter', x= 'Speed_mph', y='Height_ft', title='Roller Coaster Speed vs. Height')"
   ]
  },
  {
   "cell_type": "code",
   "execution_count": 32,
   "id": "9dfc9d7d-2f50-4530-808e-693cc58a33e2",
   "metadata": {},
   "outputs": [
    {
     "data": {
      "text/plain": [
       "Text(0.5, 1.0, 'Roller Coaster Speed vs. Height')"
      ]
     },
     "execution_count": 32,
     "metadata": {},
     "output_type": "execute_result"
    },
    {
     "data": {
      "image/png": "[encoded data removed]",
      "text/plain": [
       "<Figure size 640x480 with 1 Axes>"
      ]
     },
     "metadata": {},
     "output_type": "display_data"
    }
   ],
   "source": [
    "sns.set_style(\"whitegrid\")\n",
    "graph = sns.scatterplot(x='Speed_mph', y='Height_ft', hue='Year_Introduced', data=df, palette = 'winter')                          \n",
    "graph.set_title('Roller Coaster Speed vs. Height')"
   ]
  },
  {
   "cell_type": "markdown",
   "id": "599da2e6-56bb-49ef-b2ec-a34f542329c9",
   "metadata": {},
   "source": [
    "### Correlation"
   ]
  },
  {
   "cell_type": "code",
   "execution_count": 34,
   "id": "b3525a29-5b44-455a-a740-4de5d17fa435",
   "metadata": {},
   "outputs": [
    {
     "data": {
      "text/html": [
       "<div>\n",
       "<style scoped>\n",
       "    .dataframe tbody tr th:only-of-type {\n",
       "        vertical-align: middle;\n",
       "    }\n",
       "\n",
       "    .dataframe tbody tr th {\n",
       "        vertical-align: top;\n",
       "    }\n",
       "\n",
       "    .dataframe thead th {\n",
       "        text-align: right;\n",
       "    }\n",
       "</style>\n",
       "<table border=\"1\" class=\"dataframe\">\n",
       "  <thead>\n",
       "    <tr style=\"text-align: right;\">\n",
       "      <th></th>\n",
       "      <th>Year_Introduced</th>\n",
       "      <th>Speed_mph</th>\n",
       "      <th>Height_ft</th>\n",
       "      <th>Inversions</th>\n",
       "      <th>Gforce</th>\n",
       "    </tr>\n",
       "  </thead>\n",
       "  <tbody>\n",
       "    <tr>\n",
       "      <th>Year_Introduced</th>\n",
       "      <td>1.000000</td>\n",
       "      <td>0.171978</td>\n",
       "      <td>0.135413</td>\n",
       "      <td>-0.209887</td>\n",
       "      <td>0.160247</td>\n",
       "    </tr>\n",
       "    <tr>\n",
       "      <th>Speed_mph</th>\n",
       "      <td>0.171978</td>\n",
       "      <td>1.000000</td>\n",
       "      <td>0.733999</td>\n",
       "      <td>-0.028705</td>\n",
       "      <td>0.607383</td>\n",
       "    </tr>\n",
       "    <tr>\n",
       "      <th>Height_ft</th>\n",
       "      <td>0.135413</td>\n",
       "      <td>0.733999</td>\n",
       "      <td>1.000000</td>\n",
       "      <td>-0.079736</td>\n",
       "      <td>0.466482</td>\n",
       "    </tr>\n",
       "    <tr>\n",
       "      <th>Inversions</th>\n",
       "      <td>-0.209887</td>\n",
       "      <td>-0.028705</td>\n",
       "      <td>-0.079736</td>\n",
       "      <td>1.000000</td>\n",
       "      <td>0.275991</td>\n",
       "    </tr>\n",
       "    <tr>\n",
       "      <th>Gforce</th>\n",
       "      <td>0.160247</td>\n",
       "      <td>0.607383</td>\n",
       "      <td>0.466482</td>\n",
       "      <td>0.275991</td>\n",
       "      <td>1.000000</td>\n",
       "    </tr>\n",
       "  </tbody>\n",
       "</table>\n",
       "</div>"
      ],
      "text/plain": [
       "                 Year_Introduced  Speed_mph  Height_ft  Inversions    Gforce\n",
       "Year_Introduced         1.000000   0.171978   0.135413   -0.209887  0.160247\n",
       "Speed_mph               0.171978   1.000000   0.733999   -0.028705  0.607383\n",
       "Height_ft               0.135413   0.733999   1.000000   -0.079736  0.466482\n",
       "Inversions             -0.209887  -0.028705  -0.079736    1.000000  0.275991\n",
       "Gforce                  0.160247   0.607383   0.466482    0.275991  1.000000"
      ]
     },
     "execution_count": 34,
     "metadata": {},
     "output_type": "execute_result"
    }
   ],
   "source": [
    "df_correl = df[['Year_Introduced','Speed_mph', 'Height_ft','Inversions','Gforce']].dropna().corr()\n",
    "    \n",
    "df_correl"
   ]
  },
  {
   "cell_type": "code",
   "execution_count": 37,
   "id": "96461b30-4052-4289-b568-5fee915c7481",
   "metadata": {},
   "outputs": [
    {
     "data": {
      "text/plain": [
       "<Axes: >"
      ]
     },
     "execution_count": 37,
     "metadata": {},
     "output_type": "execute_result"
    },
    {
     "data": {
      "image/png": "[encoded data removed]",
      "text/plain": [
       "<Figure size 640x480 with 2 Axes>"
      ]
     },
     "metadata": {},
     "output_type": "display_data"
    }
   ],
   "source": [
    "sns.heatmap(df_correl, annot=True)"
   ]
  },
  {
   "cell_type": "code",
   "execution_count": 38,
   "id": "82a4cf26-8299-40cf-b7c3-240cd2836023",
   "metadata": {},
   "outputs": [
    {
     "data": {
      "text/html": [
       "<div>\n",
       "<style scoped>\n",
       "    .dataframe tbody tr th:only-of-type {\n",
       "        vertical-align: middle;\n",
       "    }\n",
       "\n",
       "    .dataframe tbody tr th {\n",
       "        vertical-align: top;\n",
       "    }\n",
       "\n",
       "    .dataframe thead th {\n",
       "        text-align: right;\n",
       "    }\n",
       "</style>\n",
       "<table border=\"1\" class=\"dataframe\">\n",
       "  <thead>\n",
       "    <tr style=\"text-align: right;\">\n",
       "      <th></th>\n",
       "      <th>Coaster_Name</th>\n",
       "      <th>Location</th>\n",
       "      <th>Status</th>\n",
       "      <th>Manufacturer</th>\n",
       "      <th>Year_Introduced</th>\n",
       "      <th>latitude</th>\n",
       "      <th>longitude</th>\n",
       "      <th>Type_Main</th>\n",
       "      <th>Opening_Date</th>\n",
       "      <th>Speed_mph</th>\n",
       "      <th>Height_ft</th>\n",
       "      <th>Inversions</th>\n",
       "      <th>Gforce</th>\n",
       "    </tr>\n",
       "  </thead>\n",
       "  <tbody>\n",
       "    <tr>\n",
       "      <th>0</th>\n",
       "      <td>Switchback Railway</td>\n",
       "      <td>Coney Island</td>\n",
       "      <td>Removed</td>\n",
       "      <td>LaMarcus Adna Thompson</td>\n",
       "      <td>1884</td>\n",
       "      <td>40.5740</td>\n",
       "      <td>-73.9780</td>\n",
       "      <td>Wood</td>\n",
       "      <td>1884-06-16</td>\n",
       "      <td>6.0</td>\n",
       "      <td>NaN</td>\n",
       "      <td>0</td>\n",
       "      <td>2.9</td>\n",
       "    </tr>\n",
       "    <tr>\n",
       "      <th>1</th>\n",
       "      <td>Flip Flap Railway</td>\n",
       "      <td>Sea Lion Park</td>\n",
       "      <td>Removed</td>\n",
       "      <td>Lina Beecher</td>\n",
       "      <td>1895</td>\n",
       "      <td>40.5780</td>\n",
       "      <td>-73.9790</td>\n",
       "      <td>Wood</td>\n",
       "      <td>1895-01-01</td>\n",
       "      <td>NaN</td>\n",
       "      <td>NaN</td>\n",
       "      <td>1</td>\n",
       "      <td>12.0</td>\n",
       "    </tr>\n",
       "    <tr>\n",
       "      <th>2</th>\n",
       "      <td>Switchback Railway (Euclid Beach Park)</td>\n",
       "      <td>Cleveland, Ohio, United States</td>\n",
       "      <td>Closed</td>\n",
       "      <td>NaN</td>\n",
       "      <td>1896</td>\n",
       "      <td>41.5800</td>\n",
       "      <td>-81.5700</td>\n",
       "      <td>Other</td>\n",
       "      <td>NaT</td>\n",
       "      <td>NaN</td>\n",
       "      <td>NaN</td>\n",
       "      <td>0</td>\n",
       "      <td>NaN</td>\n",
       "    </tr>\n",
       "    <tr>\n",
       "      <th>3</th>\n",
       "      <td>Loop the Loop (Coney Island)</td>\n",
       "      <td>Other</td>\n",
       "      <td>Removed</td>\n",
       "      <td>Edwin Prescott</td>\n",
       "      <td>1901</td>\n",
       "      <td>40.5745</td>\n",
       "      <td>-73.9780</td>\n",
       "      <td>Steel</td>\n",
       "      <td>1901-01-01</td>\n",
       "      <td>NaN</td>\n",
       "      <td>NaN</td>\n",
       "      <td>1</td>\n",
       "      <td>NaN</td>\n",
       "    </tr>\n",
       "    <tr>\n",
       "      <th>4</th>\n",
       "      <td>Loop the Loop (Young's Pier)</td>\n",
       "      <td>Other</td>\n",
       "      <td>Removed</td>\n",
       "      <td>Edwin Prescott</td>\n",
       "      <td>1901</td>\n",
       "      <td>39.3538</td>\n",
       "      <td>-74.4342</td>\n",
       "      <td>Steel</td>\n",
       "      <td>1901-01-01</td>\n",
       "      <td>NaN</td>\n",
       "      <td>NaN</td>\n",
       "      <td>1</td>\n",
       "      <td>NaN</td>\n",
       "    </tr>\n",
       "    <tr>\n",
       "      <th>...</th>\n",
       "      <td>...</td>\n",
       "      <td>...</td>\n",
       "      <td>...</td>\n",
       "      <td>...</td>\n",
       "      <td>...</td>\n",
       "      <td>...</td>\n",
       "      <td>...</td>\n",
       "      <td>...</td>\n",
       "      <td>...</td>\n",
       "      <td>...</td>\n",
       "      <td>...</td>\n",
       "      <td>...</td>\n",
       "      <td>...</td>\n",
       "    </tr>\n",
       "    <tr>\n",
       "      <th>985</th>\n",
       "      <td>Ice Breaker (roller coaster)</td>\n",
       "      <td>SeaWorld Orlando</td>\n",
       "      <td>Under construction</td>\n",
       "      <td>Premier Rides</td>\n",
       "      <td>2022</td>\n",
       "      <td>28.4088</td>\n",
       "      <td>-81.4633</td>\n",
       "      <td>Steel</td>\n",
       "      <td>2022-02-01</td>\n",
       "      <td>52.0</td>\n",
       "      <td>NaN</td>\n",
       "      <td>0</td>\n",
       "      <td>NaN</td>\n",
       "    </tr>\n",
       "    <tr>\n",
       "      <th>986</th>\n",
       "      <td>Leviathan (Sea World)</td>\n",
       "      <td>Sea World</td>\n",
       "      <td>Under construction</td>\n",
       "      <td>Martin &amp; Vleminckx</td>\n",
       "      <td>2022</td>\n",
       "      <td>-27.9574</td>\n",
       "      <td>153.4263</td>\n",
       "      <td>Wood</td>\n",
       "      <td>2022-01-01</td>\n",
       "      <td>49.7</td>\n",
       "      <td>105.0</td>\n",
       "      <td>0</td>\n",
       "      <td>NaN</td>\n",
       "    </tr>\n",
       "    <tr>\n",
       "      <th>987</th>\n",
       "      <td>Pantheon (roller coaster)</td>\n",
       "      <td>Busch Gardens Williamsburg</td>\n",
       "      <td>Under construction</td>\n",
       "      <td>Intamin</td>\n",
       "      <td>2022</td>\n",
       "      <td>37.2339</td>\n",
       "      <td>-76.6426</td>\n",
       "      <td>Steel</td>\n",
       "      <td>2022-01-01</td>\n",
       "      <td>73.0</td>\n",
       "      <td>NaN</td>\n",
       "      <td>2</td>\n",
       "      <td>NaN</td>\n",
       "    </tr>\n",
       "    <tr>\n",
       "      <th>988</th>\n",
       "      <td>Tumbili</td>\n",
       "      <td>Kings Dominion</td>\n",
       "      <td>Under construction</td>\n",
       "      <td>S&amp;S – Sansei Technologies</td>\n",
       "      <td>2022</td>\n",
       "      <td>NaN</td>\n",
       "      <td>NaN</td>\n",
       "      <td>Steel</td>\n",
       "      <td>NaT</td>\n",
       "      <td>34.0</td>\n",
       "      <td>NaN</td>\n",
       "      <td>0</td>\n",
       "      <td>NaN</td>\n",
       "    </tr>\n",
       "    <tr>\n",
       "      <th>989</th>\n",
       "      <td>Wonder Woman Flight of Courage</td>\n",
       "      <td>Six Flags Magic Mountain</td>\n",
       "      <td>Under construction</td>\n",
       "      <td>Rocky Mountain Construction</td>\n",
       "      <td>2022</td>\n",
       "      <td>NaN</td>\n",
       "      <td>NaN</td>\n",
       "      <td>Steel</td>\n",
       "      <td>2022-01-01</td>\n",
       "      <td>58.0</td>\n",
       "      <td>NaN</td>\n",
       "      <td>3</td>\n",
       "      <td>NaN</td>\n",
       "    </tr>\n",
       "  </tbody>\n",
       "</table>\n",
       "<p>990 rows × 13 columns</p>\n",
       "</div>"
      ],
      "text/plain": [
       "                               Coaster_Name                        Location  \\\n",
       "0                        Switchback Railway                    Coney Island   \n",
       "1                         Flip Flap Railway                   Sea Lion Park   \n",
       "2    Switchback Railway (Euclid Beach Park)  Cleveland, Ohio, United States   \n",
       "3              Loop the Loop (Coney Island)                           Other   \n",
       "4              Loop the Loop (Young's Pier)                           Other   \n",
       "..                                      ...                             ...   \n",
       "985            Ice Breaker (roller coaster)                SeaWorld Orlando   \n",
       "986                   Leviathan (Sea World)                       Sea World   \n",
       "987               Pantheon (roller coaster)      Busch Gardens Williamsburg   \n",
       "988                                 Tumbili                  Kings Dominion   \n",
       "989          Wonder Woman Flight of Courage        Six Flags Magic Mountain   \n",
       "\n",
       "                 Status                 Manufacturer  Year_Introduced  \\\n",
       "0               Removed       LaMarcus Adna Thompson             1884   \n",
       "1               Removed                 Lina Beecher             1895   \n",
       "2                Closed                          NaN             1896   \n",
       "3               Removed               Edwin Prescott             1901   \n",
       "4               Removed               Edwin Prescott             1901   \n",
       "..                  ...                          ...              ...   \n",
       "985  Under construction                Premier Rides             2022   \n",
       "986  Under construction           Martin & Vleminckx             2022   \n",
       "987  Under construction                      Intamin             2022   \n",
       "988  Under construction    S&S – Sansei Technologies             2022   \n",
       "989  Under construction  Rocky Mountain Construction             2022   \n",
       "\n",
       "     latitude  longitude Type_Main Opening_Date  Speed_mph  Height_ft  \\\n",
       "0     40.5740   -73.9780      Wood   1884-06-16        6.0        NaN   \n",
       "1     40.5780   -73.9790      Wood   1895-01-01        NaN        NaN   \n",
       "2     41.5800   -81.5700     Other          NaT        NaN        NaN   \n",
       "3     40.5745   -73.9780     Steel   1901-01-01        NaN        NaN   \n",
       "4     39.3538   -74.4342     Steel   1901-01-01        NaN        NaN   \n",
       "..        ...        ...       ...          ...        ...        ...   \n",
       "985   28.4088   -81.4633     Steel   2022-02-01       52.0        NaN   \n",
       "986  -27.9574   153.4263      Wood   2022-01-01       49.7      105.0   \n",
       "987   37.2339   -76.6426     Steel   2022-01-01       73.0        NaN   \n",
       "988       NaN        NaN     Steel          NaT       34.0        NaN   \n",
       "989       NaN        NaN     Steel   2022-01-01       58.0        NaN   \n",
       "\n",
       "     Inversions  Gforce  \n",
       "0             0     2.9  \n",
       "1             1    12.0  \n",
       "2             0     NaN  \n",
       "3             1     NaN  \n",
       "4             1     NaN  \n",
       "..          ...     ...  \n",
       "985           0     NaN  \n",
       "986           0     NaN  \n",
       "987           2     NaN  \n",
       "988           0     NaN  \n",
       "989           3     NaN  \n",
       "\n",
       "[990 rows x 13 columns]"
      ]
     },
     "execution_count": 38,
     "metadata": {},
     "output_type": "execute_result"
    }
   ],
   "source": [
    "df"
   ]
  },
  {
   "cell_type": "code",
   "execution_count": 66,
   "id": "6d84647e-e6b6-406a-a9b2-5881d3e3e6ac",
   "metadata": {},
   "outputs": [
    {
     "data": {
      "text/plain": [
       "Text(0.5, 1.0, '10 Fastest Roller Coaster')"
      ]
     },
     "execution_count": 66,
     "metadata": {},
     "output_type": "execute_result"
    },
    {
     "data": {
      "image/png": "[encoded data removed]",
      "text/plain": [
       "<Figure size 640x480 with 1 Axes>"
      ]
     },
     "metadata": {},
     "output_type": "display_data"
    }
   ],
   "source": [
    "df_Top10 = df.sort_values(by='Speed_mph', ascending=False).head(10)\n",
    "sns.set_style(\"whitegrid\")\n",
    "sns.barplot(x='Speed_mph', y='Location', data = df_Top10 )\n",
    "plt.title('10 Fastest Roller Coaster', fontsize=20)"
   ]
  },
  {
   "cell_type": "code",
   "execution_count": null,
   "id": "4c43f755-5bd2-495d-8fe8-6574218b321f",
   "metadata": {},
   "outputs": [],
   "source": []
  },
  {
   "cell_type": "code",
   "execution_count": null,
   "id": "fa50bade-700e-4356-8d07-1806364ed570",
   "metadata": {},
   "outputs": [],
   "source": []
  }
 ],
 "metadata": {
  "kernelspec": {
   "display_name": "Python 3 (ipykernel)",
   "language": "python",
   "name": "python3"
  },
  "language_info": {
   "codemirror_mode": {
    "name": "ipython",
    "version": 3
   },
   "file_extension": ".py",
   "mimetype": "text/x-python",
   "name": "python",
   "nbconvert_exporter": "python",
   "pygments_lexer": "ipython3",
   "version": "3.12.2"
  }
 },
 "nbformat": 4,
 "nbformat_minor": 5
}
